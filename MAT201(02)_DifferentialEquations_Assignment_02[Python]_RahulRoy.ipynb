{
 "cells": [
  {
   "cell_type": "markdown",
   "metadata": {},
   "source": [
    "# ASSIGNMENT - 02\n",
    "## Rahul Roy\n",
    "## ID : 172014022\n",
    "## Class : MAT 201 (02) "
   ]
  },
  {
   "cell_type": "markdown",
   "metadata": {},
   "source": [
    "# ---------------------------------------------------------------------------------------------------------------"
   ]
  },
  {
   "cell_type": "markdown",
   "metadata": {},
   "source": [
    "### 1.  Write a program that repeatedly asks the user to enter product names and prices. Store all of these in a dictionary whose keys are the product names and whose values are the prices. When the user is done entering products and prices, allow them to repeatedly enter a product name and print the corresponding price or a message if the product is not in the dictionary.\n"
   ]
  },
  {
   "cell_type": "code",
   "execution_count": 1,
   "metadata": {},
   "outputs": [
    {
     "name": "stdout",
     "output_type": "stream",
     "text": [
      "Product name: pen\n",
      "Price: 20\n",
      "Product name: apples\n",
      "Price: 65\n",
      "Product name: sticks\n",
      "Price: 45\n",
      "Product name: done\n",
      "What is the price of sticks\n",
      "45\n"
     ]
    }
   ],
   "source": [
    "dict = {}\n",
    "\n",
    "while True:\n",
    "    x = input(\"Product name: \")\n",
    "    if x == \"done\":\n",
    "        break\n",
    "    y = input(\"Price: \")\n",
    "    dict[x] = y\n",
    "    \n",
    "while True:\n",
    "    x = input(\"What is the price of \")\n",
    "    print(dict.get(x))\n",
    "    break\n"
   ]
  },
  {
   "cell_type": "markdown",
   "metadata": {},
   "source": [
    "### 2. Using the dictionary created in the previous problem, allow the user to enter a dollar amount and print out all the products whose price is less than that amount.\n"
   ]
  },
  {
   "cell_type": "code",
   "execution_count": 9,
   "metadata": {},
   "outputs": [
    {
     "name": "stdout",
     "output_type": "stream",
     "text": [
      "Product name: apples\n",
      "Price: 50\n",
      "Product name: oranges\n",
      "Price: 45\n",
      "Product name: milk\n",
      "Price: 100\n",
      "Product name: grapes\n",
      "Price: 71\n",
      "Product name: done\n",
      "Show products that cost less than 100\n",
      "apples\n",
      "oranges\n",
      "grapes\n"
     ]
    }
   ],
   "source": [
    "dict = {}\n",
    "\n",
    "# x -> product\n",
    "# y -> price\n",
    "\n",
    "while (True):\n",
    "    x = input(\"Product name: \")\n",
    "    if x == \"done\":\n",
    "        break\n",
    "        \n",
    "    y = int(input(\"Price (in $): \")) \n",
    "    dict[x] = y\n",
    "\n",
    "    \n",
    "w = int(input(\"\\nShow products that cost less than \"))\n",
    "\n",
    "for x in dict:\n",
    "    if dict.get(x) < w:\n",
    "        print(x)\n"
   ]
  },
  {
   "cell_type": "markdown",
   "metadata": {},
   "source": [
    "### 3. Write a program that uses a dictionary that contains ten user names and passwords. The program should ask the user to enter their username and password. If the username is not in the dictionary, the program should indicate that the person is not a valid user of the system. If the username is in the dictionary, but the user does not enter the right password, the program should say that the password is invalid. If the password is correct, then the program should tell the user that they are now logged in to the system.\n"
   ]
  },
  {
   "cell_type": "code",
   "execution_count": 8,
   "metadata": {},
   "outputs": [
    {
     "name": "stdout",
     "output_type": "stream",
     "text": [
      "User Name: Tom\n",
      "Password: Dick2\n",
      "\n",
      "Correct Password \n",
      "Log in Successful !\n"
     ]
    }
   ],
   "source": [
    "dict = {'Tom' : 'Dick2', 'Dick':'Harry3', 'Harry' : 'Tom1', 'Rahul' : 'rahul619', 'Romiz' : 'romcomtom', 'Joy' : 'election18', \n",
    "        'Harrison' : 'Dexter', 'Rupom' : 'CRforLife', 'Rupom2' : 'rupok', 'Harry Potter' : 'VoldemortIsLife'}\n",
    "\n",
    "x = input('User Name: ')\n",
    "y = input('Password: ')\n",
    "\n",
    "# error handling\n",
    "if x in dict:\n",
    "    if dict.get(x) == y :\n",
    "        print(\"\\nCorrect Password \\nLog in Successful !\")       \n",
    "    else :    \n",
    "        print (\"Password Not Correct!\")\n",
    "\n",
    "else:\n",
    "    print (\"Username not in dictionary\")"
   ]
  },
  {
   "cell_type": "markdown",
   "metadata": {
    "collapsed": true
   },
   "source": [
    "### 4. Suppose you are given the following list of strings:\n",
    "### L = [ ' aabaabac ' , ' cabaabca ' , ' aaabbcba ' , ' aabacbab ' , ' acababba ' ]\n",
    "### Patterns like this show up in many places, including DNA sequencing. The user has a string of their own with only some letters filled in and the rest as asterisks. An example is aa** . The user would like to know which of the strings in the list fit with their pattern. In the example just given, the matching strings are the first and fourth. One way to solve this problem is to create a dictionary whose keys are the indices in the user’s string of the non- asterisk characters and whose values are those characters. \n",
    "\n",
    "### Write a program implementing this approach (or some other approach) to find the strings that match a user-entered string.\n",
    "\n"
   ]
  },
  {
   "cell_type": "code",
   "execution_count": null,
   "metadata": {
    "collapsed": true
   },
   "outputs": [],
   "source": [
    "\n"
   ]
  },
  {
   "cell_type": "markdown",
   "metadata": {},
   "source": [
    "### 5. Dictionaries provide a convenient way to store structured data. Here is an example dictionary:\n",
    "\n",
    "### d=[\n",
    "### { ' name ' : ' Todd ' , ' phone ' : ' 555-1414 ' , ' email ' : ' todd@mail.net ' }, \n",
    "### { ' name ' : ' Helga ' , ' phone ' : ' 555-1618 ' , ' email ' : ' helga@mail.net ' },\n",
    "### { ' name ' : ' Princess ' , ' phone ' : ' 555-3141 ' , ' email ' : '' }, \n",
    "### { ' name ' : ' LJ' , ' phone ' : ' 555-2718 ' , ' email ' : ' lj@mail.net ' }\n",
    "### ]\n",
    "### Write a program that reads through any dictionary like this and prints the following:\n",
    "### (a) All the users whose phone number ends in an 8\n",
    "### (b) All the users that don’t have an email address listed\n"
   ]
  },
  {
   "cell_type": "code",
   "execution_count": 9,
   "metadata": {},
   "outputs": [
    {
     "name": "stdout",
     "output_type": "stream",
     "text": [
      "Helga\n",
      "Princess\n"
     ]
    }
   ],
   "source": [
    "dict = [{'name' : 'Todd', 'phone' : '555-1414', 'email' : 'todd@gmail.com'},\n",
    "     {'name' : 'Helga', 'phone' : '555-1618', 'email' : 'helga@gmail.com'},\n",
    "     {'name' : 'Princess', 'phone' : '555-2716', 'email' : ' '}]\n",
    "\n",
    "\n",
    "for x in dict:\n",
    "    for y in x:\n",
    "        str = x.get('phone')\n",
    "        if str[len(str)-1] == '8':\n",
    "            print(x.get('name'))\n",
    "            break\n",
    "for x in dict:\n",
    "    for y in x:\n",
    "        str = x.get('email')\n",
    "        if str[len(str)-1] == ' ':\n",
    "            print(x.get('name'))\n",
    "            break\n"
   ]
  },
  {
   "cell_type": "markdown",
   "metadata": {},
   "source": [
    "### 6. The keys in a dictionary are guaranteed to be unique, but the values are not. Write a function called count_values that takes a single dictionary as an argument and returns the number of dis- tinct values it contains. Given the input {’red’:1, ’green’:1, ’blue’:2} , for example, it would return 2.\n"
   ]
  },
  {
   "cell_type": "code",
   "execution_count": null,
   "metadata": {
    "collapsed": true
   },
   "outputs": [],
   "source": []
  },
  {
   "cell_type": "markdown",
   "metadata": {},
   "source": [
    "### 7. A sparse vector is a vector whose entries are almost all zero, like [1, 0, 0, 0, 0, 0, 3, 0, 0, 0] . Storing all\n",
    "### those zeroes in a list wastes memory, so programmers often use dictionaries instead to keep track of just\n",
    "### the nonzero entries. For example, the vector shown earlier would be represented as {0:1, 6:3} , since the\n",
    "### vector it is meant to represent has the value 1 at index 0 and the value 3 at index 6.\n",
    "\n",
    "### a) Write a function called sparse_add that takes two sparse vec- tors stored as dictionaries and returns a new dictionary rep- resenting their sum.\n"
   ]
  },
  {
   "cell_type": "code",
   "execution_count": null,
   "metadata": {
    "collapsed": true
   },
   "outputs": [],
   "source": []
  },
  {
   "cell_type": "markdown",
   "metadata": {},
   "source": [
    "## ================================================================================================"
   ]
  },
  {
   "cell_type": "markdown",
   "metadata": {},
   "source": [
    "# CONDITIONALS"
   ]
  },
  {
   "cell_type": "markdown",
   "metadata": {},
   "source": [
    "### 8. Write a program that uses a while loop (not a for loop) to read through a string and print the characters of the string one-by-one on separate lines.\n"
   ]
  },
  {
   "cell_type": "code",
   "execution_count": 11,
   "metadata": {},
   "outputs": [
    {
     "name": "stdout",
     "output_type": "stream",
     "text": [
      "Enter a string: rahul\n",
      "r\n",
      "\n",
      "a\n",
      "\n",
      "h\n",
      "\n",
      "u\n",
      "\n",
      "l\n",
      "\n"
     ]
    }
   ],
   "source": [
    "user_str = input(\"Enter a string: \")\n",
    "\n",
    "i = 0\n",
    "while(i < len(user_str)):\n",
    "    print(\"{}\\n\".format(user_str[i]))\n",
    "    i+=1\n"
   ]
  },
  {
   "cell_type": "markdown",
   "metadata": {},
   "source": [
    "### 9. Modify the program above to print out every second character of the string.\n"
   ]
  },
  {
   "cell_type": "code",
   "execution_count": 15,
   "metadata": {},
   "outputs": [
    {
     "name": "stdout",
     "output_type": "stream",
     "text": [
      "Enter a string: rahulroy\n",
      "a\n",
      "\n",
      "u\n",
      "\n",
      "r\n",
      "\n",
      "y\n",
      "\n"
     ]
    }
   ],
   "source": [
    "user_str = input(\"Enter a string: \")\n",
    "\n",
    "i = 1\n",
    "while(i < len(user_str)):\n",
    "    print(\"{}\\n\".format(user_str[i]))\n",
    "    i+=2\n"
   ]
  },
  {
   "cell_type": "markdown",
   "metadata": {},
   "source": [
    "### 10.  Write a program that asks the user to enter a password. If the user enters the right password, the program should tell them they are logged in to the system. Otherwise, the program should ask them to reenter the password. The user should only get five tries to enter the password, after which point the program should tell them that they are kicked off of the system.\n"
   ]
  },
  {
   "cell_type": "code",
   "execution_count": 3,
   "metadata": {},
   "outputs": [
    {
     "name": "stdout",
     "output_type": "stream",
     "text": [
      "Enter a password: gs\n",
      "Tries left : \t\n",
      "5\n",
      "Re-enter your password: sdf\n",
      "Tries left : \t\n",
      "4\n",
      "Re-enter your password: asfsf\n",
      "Tries left : \t\n",
      "3\n",
      "Re-enter your password: fsaf\n",
      "Tries left : \t\n",
      "2\n",
      "Re-enter your password: sfsfs\n",
      "Tries left : \t\n",
      "1\n",
      "Re-enter your password: sdfasf\n",
      "You have been kicked out of the system !! \n"
     ]
    }
   ],
   "source": [
    "\n",
    "password = \"donaldtrumpistheorangeman\"\n",
    "\n",
    "for i in range(6):\n",
    "    if i == 0:\n",
    "        str = input(\"Enter a password: \")\n",
    "    else:\n",
    "        str = input(\"Re-enter your password: \")\n",
    "    \n",
    "    if str == password:\n",
    "        print(\"You are logged in !\")\n",
    "        break\n",
    "    else:\n",
    "        if 5- i > 0 :\n",
    "            x = 5 - i \n",
    "            print(\"Tries left : \\t\")\n",
    "            print(x)\n",
    "        \n",
    "        if i == 5:\n",
    "            print(\"You have been kicked out of the system !! \")\n"
   ]
  },
  {
   "cell_type": "markdown",
   "metadata": {
    "collapsed": true
   },
   "source": [
    "### 11.   Recall that, given a string s , s.index( ' x ' ) returns the index of the first x in s and an error if there is no x.\n",
    "### (a) Write a program that asks the user for a string and a letter. Using a while loop, the program should print\n",
    "### the index of the first occurrence of that letter and a message if the string does not contain the letter.\n",
    "### (b) Write the above program using a for/break loop instead of a while loop.\n"
   ]
  },
  {
   "cell_type": "code",
   "execution_count": 5,
   "metadata": {},
   "outputs": [
    {
     "name": "stdout",
     "output_type": "stream",
     "text": [
      "Enter a string. Add a space and then enter the number whose position in the string you want : rte6uhg7em 7\n",
      "Position [starting index = 0] : \n",
      "7\n"
     ]
    }
   ],
   "source": [
    "i = 0\n",
    "str = input(\"Enter a string. Add a space and then enter the number whose position in the string you want : \")\n",
    "\n",
    "while i < len(str)-2:\n",
    "    if str[i] == str[len(str) - 1]:\n",
    "        print (\"Position [starting index = 0] : \")\n",
    "        print(i)\n",
    "        break\n",
    "    i+=1\n",
    "    \n",
    "if i == len(str)-2:\n",
    "    print(\"No \\'{}\\' found on this string\". format(str[len(str) - 1]))\n"
   ]
  },
  {
   "cell_type": "code",
   "execution_count": 5,
   "metadata": {},
   "outputs": [
    {
     "name": "stdout",
     "output_type": "stream",
     "text": [
      "Enter a string. Add a space and then enter the number whose position in the string you want : ert5gsgh 5\n",
      "Position [starting index = 0] : \n",
      "3\n"
     ]
    }
   ],
   "source": [
    "i = 0\n",
    "str = input(\"Enter a string. Add a space and then enter the number whose position in the string you want : \")\n",
    "\n",
    "for i in range(len(str)-2):\n",
    "    if str[i] == str[len(str) - 1]:\n",
    "        print (\"Position [starting index = 0] : \")\n",
    "        print(i)\n",
    "        break\n",
    "    i+=1\n",
    "    \n",
    "if i == len(str)-2:\n",
    "    print(\"No \\'{}\\' found on this string\". format(str[len(str) - 1]))\n"
   ]
  },
  {
   "cell_type": "markdown",
   "metadata": {
    "collapsed": true
   },
   "source": [
    "### 12. The GCD (greatest common divisor) of two numbers is the largest number that both are di- visible by. For instance, gcd (18, 42) is 6 because the largest number that both 18 and 42 are divisible by is 6. Write a program that asks the user for two numbers and computes their gcd. Shown below is a way to compute the GCD, called Euclid’s Algorithm.• First compute the remainder of dividing the larger number by the smaller number• Next, replace the larger number with the smaller number and the smaller number with the remainder.• Repeat this process until the smaller number is 0. The GCD is the last value of the larger number."
   ]
  },
  {
   "cell_type": "code",
   "execution_count": 8,
   "metadata": {},
   "outputs": [
    {
     "name": "stdout",
     "output_type": "stream",
     "text": [
      "18\n",
      "42\n",
      "Greatest common Divisor: \n",
      "6\n"
     ]
    }
   ],
   "source": [
    "num1 =int(input())\n",
    "num2 =int(input())\n",
    "\n",
    "x = 1\n",
    "gcd = 0\n",
    "\n",
    "while x <= num1 and x <= num2:\n",
    "    if num1 % x == 0 and num2 % x == 0:\n",
    "        gcd = x\n",
    "    x+=1\n",
    "print (\"Greatest common Divisor: \")\n",
    "print(gcd)\n"
   ]
  },
  {
   "cell_type": "markdown",
   "metadata": {},
   "source": [
    "### 13. A 4000-year old method to compute the square root of 5 is as follows: Start with an initial guess, say 1. Then compute (1 + 5/1 )/2 = 3 Next, take that 3 and replace the 1’s in the previous formula with 3’s . This gives (3 + 5/3 )/2 = 7/3 = 2.33 Next replace the 3 in the previous formula with 7/3 . This gives (7/3 + 5/(7/3) )/2 = 47/22 = 2.24. \n",
    "\n",
    "### If you keep doing this process of computing the formula, getting a result, and plugging it back in, the values will eventually get closer and closer to 5 . This method works for numbers other than 5. Write a program that asks the user for a number and uses this method to estimate the square root of the number correct to within 10^( −10) . The estimate will be correct to within 10^( −10) when the absolute value of the difference between consecutive values is less than 10^(−10) .\n"
   ]
  },
  {
   "cell_type": "code",
   "execution_count": 10,
   "metadata": {},
   "outputs": [
    {
     "name": "stdout",
     "output_type": "stream",
     "text": [
      "5\n",
      "2.24\n"
     ]
    }
   ],
   "source": [
    "number = int(input())\n",
    "\n",
    "i = 1\n",
    "\n",
    "while i >= 0:\n",
    "    x = i\n",
    "    i = (i + number/i)/2\n",
    "    if x == i:\n",
    "        break\n",
    "print(\"%.2f\"%i)\n"
   ]
  },
  {
   "cell_type": "markdown",
   "metadata": {},
   "source": [
    "### 14. Write a program that starts with an 5 × 5 list of zeroes and randomly changes exactly ten of those zeroes to ones.\n"
   ]
  },
  {
   "cell_type": "code",
   "execution_count": 11,
   "metadata": {},
   "outputs": [
    {
     "name": "stdout",
     "output_type": "stream",
     "text": [
      "0 0 0 1 1 \n",
      "0 0 1 1 1 \n",
      "0 1 1 1 0 \n",
      "1 1 1 0 0 \n",
      "1 1 0 0 0 \n"
     ]
    }
   ],
   "source": [
    "import random\n",
    "myList = []\n",
    "randomPosition = []\n",
    "\n",
    "for i in range(25):\n",
    "    myList.append(0)      # initial matrix of zeroes\n",
    "\n",
    "for i in range(10):\n",
    "    x = random.randrange(1, 25)\n",
    "    while randomPosition.count(x) != 0:\n",
    "        x = random.randrange(1, 25)\n",
    "    randomPosition.append(x)\n",
    "    myList[x] = 1\n",
    "    \n",
    "k = 0\n",
    "for i in range (5):\n",
    "    for j in range(5):\n",
    "        if i+j == randomPosition[k]:\n",
    "            print(myList[k], end=\" \")\n",
    "            k+=1\n",
    "            continue\n",
    "        print(myList[i+j], end=\" \")\n",
    "    print()\n"
   ]
  },
  {
   "cell_type": "markdown",
   "metadata": {},
   "source": [
    "### 15. Write a program in which you have a list that contains seven integers that can be 0 or 1. Find the first nonzero entry in the list and change it to a 1. If there are no nonzero entries, print a message saying so.\n"
   ]
  },
  {
   "cell_type": "code",
   "execution_count": 25,
   "metadata": {},
   "outputs": [
    {
     "name": "stdout",
     "output_type": "stream",
     "text": [
      "There are no non-zero entry exists\n"
     ]
    }
   ],
   "source": [
    "\n",
    "myList = [0,0,0,1,0,0,1]\n",
    "k = True\n",
    "for x in myList:\n",
    "    if myList[x] != 0:\n",
    "        myList[x] = 1\n",
    "        k = False\n",
    "        print(myList)\n",
    "    break\n",
    "if k == True:\n",
    "    print(\"There are no non-zero entry exists\")\n"
   ]
  },
  {
   "cell_type": "markdown",
   "metadata": {},
   "source": [
    "### 16. Write a program to play the following simple game. The player starts with 100 dollars. On each turn a coin is flipped and the player has to guess heads or tails. The player wins 9 dollars for each correct guess and loses 10 dollars for each incorrect guess. The game ends either when the player runs out of money or gets to 200 dollars.\n"
   ]
  },
  {
   "cell_type": "code",
   "execution_count": 29,
   "metadata": {},
   "outputs": [
    {
     "name": "stdout",
     "output_type": "stream",
     "text": [
      "1. Head\n",
      "2.Tail\n",
      "Choose: 1\n",
      "1. Head\n",
      "2.Tail\n",
      "Choose: 2\n",
      "1. Head\n",
      "2.Tail\n",
      "Choose: 2\n",
      "1. Head\n",
      "2.Tail\n",
      "Choose: 1\n",
      "1. Head\n",
      "2.Tail\n",
      "Choose: 1\n",
      "1. Head\n",
      "2.Tail\n",
      "Choose: 2\n",
      "1. Head\n",
      "2.Tail\n",
      "Choose: 1\n",
      "1. Head\n",
      "2.Tail\n",
      "Choose: 2\n",
      "1. Head\n",
      "2.Tail\n",
      "Choose: 1\n",
      "1. Head\n",
      "2.Tail\n",
      "Choose: 2\n",
      "1. Head\n",
      "2.Tail\n",
      "Choose: 2\n",
      "1. Head\n",
      "2.Tail\n",
      "Choose: 1\n",
      "1. Head\n",
      "2.Tail\n",
      "Choose: 2\n",
      "1. Head\n",
      "2.Tail\n",
      "Choose: 2\n",
      "1. Head\n",
      "2.Tail\n",
      "Choose: 2\n",
      "1. Head\n",
      "2.Tail\n",
      "Choose: 1\n",
      "1. Head\n",
      "2.Tail\n",
      "Choose: 1\n",
      "1. Head\n",
      "2.Tail\n",
      "Choose: 1\n",
      "1. Head\n",
      "2.Tail\n",
      "Choose: 1\n",
      "1. Head\n",
      "2.Tail\n",
      "Choose: 1\n",
      "-5\n"
     ]
    }
   ],
   "source": [
    "import random\n",
    "player = 100\n",
    "\n",
    "while player > 0 and player < 200:\n",
    "    print(\"1. Head\\n2.Tail\")\n",
    "    x = int(input(\"Choose: \"))\n",
    "    if (random.randrange(10)+1)%2==0 and x == 2:\n",
    "        player+=9\n",
    "    else:\n",
    "        player-=10\n",
    "print (\"player has : \")\n",
    "print (player)"
   ]
  },
  {
   "cell_type": "markdown",
   "metadata": {},
   "source": [
    "### 17. Randomly generate a 6 × 6 list that has exactly 12 ones placed in random locations in the list. The rest of the entries should be zeroes.\n"
   ]
  },
  {
   "cell_type": "code",
   "execution_count": 31,
   "metadata": {},
   "outputs": [
    {
     "name": "stdout",
     "output_type": "stream",
     "text": [
      "1 1 0 0 1 0 \n",
      "0 0 0 1 0 0 \n",
      "0 1 0 1 0 0 \n",
      "0 0 1 0 1 0 \n",
      "0 1 0 0 0 0 \n",
      "1 0 1 0 0 1 \n"
     ]
    }
   ],
   "source": [
    "import random\n",
    "positions = []\n",
    "\n",
    "for x in range(12):\n",
    "    randomNumber = random.randrange(36)\n",
    "    while positions.count(randomNumber) != 0:\n",
    "        randomNumber = random.randrange(36)\n",
    "    positions.append(randomNumber)\n",
    "    positions.sort()\n",
    "\n",
    "k = 0\n",
    "j = -1\n",
    "for x in range(6):\n",
    "    for y in range(6):\n",
    "        j+=1\n",
    "        if j == positions[k]:\n",
    "            print(\"1\", end=\" \")\n",
    "            k+=1\n",
    "            continue\n",
    "        print(\"0\", end=\" \")\n",
    "    print()\n"
   ]
  },
  {
   "cell_type": "markdown",
   "metadata": {},
   "source": [
    "### 18. Randomly generate a 9 × 9 list where the entries are integers between 1 and 9 with no repeat entries in any row or in any column.\n"
   ]
  },
  {
   "cell_type": "code",
   "execution_count": 32,
   "metadata": {},
   "outputs": [
    {
     "name": "stdout",
     "output_type": "stream",
     "text": [
      "7 6 3 5 8 1 4 2 9 \n",
      "5 7 6 4 9 3 2 8 1 \n",
      "3 9 6 7 5 4 8 2 1 \n",
      "6 8 9 7 3 5 2 1 4 \n",
      "3 2 9 6 8 4 1 7 5 \n",
      "4 9 6 3 7 2 5 1 8 \n",
      "7 2 3 6 1 5 4 9 8 \n",
      "8 9 7 5 3 4 2 1 6 \n",
      "3 5 8 6 2 4 1 7 9 \n"
     ]
    }
   ],
   "source": [
    "import random\n",
    "positions = []\n",
    "\n",
    "for x in range(9):\n",
    "    for y in range(9):\n",
    "        f = random.randrange(9)+1\n",
    "        \n",
    "        while positions.count(f)!=0:\n",
    "            f = random.randrange(9)+1\n",
    "        positions.append(f)\n",
    "        print(f, end=\" \")\n",
    "        \n",
    "    positions.clear()\n",
    "    print()\n"
   ]
  }
 ],
 "metadata": {
  "kernelspec": {
   "display_name": "Python 3",
   "language": "python",
   "name": "python3"
  },
  "language_info": {
   "codemirror_mode": {
    "name": "ipython",
    "version": 3
   },
   "file_extension": ".py",
   "mimetype": "text/x-python",
   "name": "python",
   "nbconvert_exporter": "python",
   "pygments_lexer": "ipython3",
   "version": "3.6.2"
  }
 },
 "nbformat": 4,
 "nbformat_minor": 2
}
