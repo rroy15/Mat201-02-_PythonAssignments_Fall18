{
 "cells": [
  {
   "cell_type": "markdown",
   "metadata": {},
   "source": [
    "# ASSIGNMENT - 01 \n",
    "## Rahul Roy\n",
    "## ID : 172014022\n",
    "## Class : MAT 201 (02) "
   ]
  },
  {
   "cell_type": "markdown",
   "metadata": {},
   "source": [
    "## ------------------------------------------------------------------------------------------------------------------------------------"
   ]
  },
  {
   "cell_type": "markdown",
   "metadata": {},
   "source": [
    "### 1.  Write a function called rectangle that takes two integers m and n as arguments and prints out an m × n box consisting of asterisks."
   ]
  },
  {
   "cell_type": "markdown",
   "metadata": {},
   "source": [
    "In this code, I am passing two arguments in the rectangle() function, and then calling it in the main() function in the beginning. Finally, to print the message, I am calling the main function [in line 26] to print the result. The rectangle function is executed in two ways - one with predetermined values of m and n, and the other one takes user input for m and n."
   ]
  },
  {
   "cell_type": "code",
   "execution_count": 3,
   "metadata": {},
   "outputs": [
    {
     "name": "stdout",
     "output_type": "stream",
     "text": [
      "* * * * * * * * * * \n",
      "* * * * * * * * * * \n",
      "* * * * * * * * * * \n",
      "* * * * * * * * * * \n",
      "* * * * * * * * * * \n",
      "* * * * * * * * * * \n",
      "* * * * * * * * * * \n",
      "* * * * * * * * * * \n",
      "* * * * * * * * * * \n",
      "* * * * * * * * * * \n",
      "\n",
      "\n",
      "Enter rows [m] : 5\n",
      "Enter columns [n] : 5\n",
      "\n",
      "\n",
      "* * * * * \n",
      "* * * * * \n",
      "* * * * * \n",
      "* * * * * \n",
      "* * * * * \n"
     ]
    }
   ],
   "source": [
    "def main():\n",
    "    \n",
    "    # predetrmined values of m and n\n",
    "    length = 10\n",
    "    width  = 10\n",
    "    #calling the rectangle function\n",
    "    rectangle (length,width) \n",
    "    print (\"\\n\")\n",
    "    \n",
    "    #user input of length[m] and width[n]\n",
    "    a = int (input(\"Enter rows [m] : \"))\n",
    "    b = int (input(\"Enter columns [n] : \"))\n",
    "    print(\"\\n\")\n",
    "    rectangle (a,b)      #calling the function\n",
    "    \n",
    "    \n",
    "# Rectangle Function\n",
    "def rectangle (x, y):\n",
    "    for i in range(x):\n",
    "        for j in range(y):\n",
    "            print (\"*\", end = \" \")\n",
    "        print (\"\")\n",
    "\n",
    "    \n",
    "\n",
    "main() "
   ]
  },
  {
   "cell_type": "markdown",
   "metadata": {},
   "source": [
    "### 2.  Write a function called add_excitement that takes a list of strings and adds an exclamation point ( ! ) to the end of each string in the list. The program should modify the original list and not return anything."
   ]
  },
  {
   "cell_type": "code",
   "execution_count": 21,
   "metadata": {},
   "outputs": [
    {
     "name": "stdout",
     "output_type": "stream",
     "text": [
      "Enter size of list5\n",
      "Enter String: I want to be the captain\n",
      "Enter String: I want to be the best\n",
      "Enter String: I am not good at it\n",
      "Enter String: Oh God\n",
      "Enter String: Harry Potter\n",
      "['I want to be the captain!', 'I want to be the best!', 'I am not good at it!', 'Oh God!', 'Harry Potter!']\n"
     ]
    }
   ],
   "source": [
    "def main ():\n",
    "    size = int (input(\"Enter size of list\"))  #user input of list\n",
    "    list_of_string = []\n",
    "    for i in range (size):\n",
    "        string = input (\"Enter String:\\t \")\n",
    "        list_of_string.append(string)\n",
    "    add_excitement(list_of_string)\n",
    "    \n",
    "    \n",
    "def add_excitement (listString):\n",
    "    listString = [i + \"!\" for i in listString]  #use of list comprehension - source StackOverflow. Only modification\n",
    "    print (listString)   #printing the original list\n",
    "    \n",
    "main()"
   ]
  },
  {
   "cell_type": "markdown",
   "metadata": {},
   "source": [
    "### 3. Write the same function except that it should not modify the original list and should instead return a new list."
   ]
  },
  {
   "cell_type": "code",
   "execution_count": 37,
   "metadata": {},
   "outputs": [
    {
     "name": "stdout",
     "output_type": "stream",
     "text": [
      "Enter size of list3\n",
      "Enter String:\t I am excited\n",
      "Enter String:\t I am tired\n",
      "Enter String:\t I am bored\n",
      "['I am excited!', 'I am tired!', 'I am bored!']\n"
     ]
    }
   ],
   "source": [
    "def main ():\n",
    "    size = int (input(\"Enter size of list\"))  #user input of list\n",
    "    list_of_string = []\n",
    "    for i in range (size):\n",
    "        string = input (\"Enter String:\\t \")\n",
    "        list_of_string.append(string)\n",
    "    add_excitement(list_of_string)\n",
    "    #print (add_excitement(list_of_string))\n",
    "    \n",
    "def add_excitement (listString):\n",
    "    #newListString = map((lambda x : x + '!'), listString)  #use of map function for  - source StackOverflow.l.\n",
    "    newListString = listString\n",
    "    newListString = [i + \"!\" for i in newListString]  # New list. Original remains unchanged.\n",
    "    print (newListString)\n",
    "    \n",
    "main()"
   ]
  },
  {
   "cell_type": "markdown",
   "metadata": {},
   "source": [
    "### 4. The digital root of a number n is obtained as follows: Add up the digits n to get a new number. Add up the digits of that to get another new number. Keep doing this until you get a number that has only one digit. That number is the digital root. For example, if n = 45893 , we add up the digits to get 4 + 5 + 8 + 9 + 3 = 29 . We then add up the digits of 29 to get 2 + 9 = 11 . We then add up the digits of 11 to get 1 + 1 = 2 . Since 2 has only one digit, 2 is our digital root. Write a function that returns the digital root of an integer n . [Note: there is a shortcut, where the digital root is equal to n mod 9, but do not use that here.]"
   ]
  },
  {
   "cell_type": "code",
   "execution_count": 1,
   "metadata": {},
   "outputs": [
    {
     "name": "stdout",
     "output_type": "stream",
     "text": [
      "Enter a number [N]:\t45893\n",
      "The digital root of  45893  is  2\n"
     ]
    }
   ],
   "source": [
    "def main():\n",
    "    N = input (\"Enter a number [N]:\\t\");\n",
    "    \n",
    "    digital_root (N)\n",
    "    print (\"The digital root of \", N, \" is \", digital_root(N))\n",
    "    \n",
    "\n",
    "def digital_root(num):\n",
    "    \n",
    "    ''' the digital root of any input that contains 1 integer will be the number itself, since there are no other numbers to\n",
    "     add to the digit ''' \n",
    "    if len(num) == 1:  \n",
    "        return num\n",
    "    else:\n",
    "        sum_of_digits = 0   # initialising sum to be zero\n",
    "        for i in num:\n",
    "            sum_of_digits += int(i)   # this is to iterate over each digit in the number, and get the sum of all the digits\n",
    "       \n",
    "        ''' The sum [digital] root is stored as a string in the num variable. This way we only need N in main() to print\n",
    "        both the input and the sum as strings '''\n",
    "        \n",
    "        num = str(sum_of_digits)    # conversion of datattype of int to string for printing in main() function\n",
    "        return digital_root(num)    # returning the \n",
    "    \n",
    "main()  #executing and printing the program"
   ]
  },
  {
   "cell_type": "markdown",
   "metadata": {},
   "source": [
    "### 5. Write a function that takes an integer n and returns a random integer with exactly n digits. For instance, if n is 3, then 125 and 593 would be valid return values, but 093 would not because that is really 93, which is a two-digit number."
   ]
  },
  {
   "cell_type": "code",
   "execution_count": 11,
   "metadata": {},
   "outputs": [
    {
     "name": "stdout",
     "output_type": "stream",
     "text": [
      "Enter the length of the number that you want:\t4\n",
      "A number with  4  digits is: \n",
      "9205\n"
     ]
    }
   ],
   "source": [
    "from random import randint\n",
    "\n",
    "def main():\n",
    "    N = int(input(\"Enter the length of the number that you want:\\t\"))\n",
    "    print (\"A number with \", N, \" digits is: \")\n",
    "    print (randomNumber_N_digits(N))\n",
    "    \n",
    "    \n",
    "def randomNumber_N_digits (n):\n",
    "    range_start = int(10**(n-1))    #raisining power to determine start point of the range\n",
    "    range_end = int((10**n)-1)      # determining the end point of the range  - Source -> StackOverflow\n",
    "    return randint(range_start, range_end)\n",
    "\n",
    "main()"
   ]
  },
  {
   "cell_type": "markdown",
   "metadata": {},
   "source": [
    "### 6. Write a function called matches that takes two strings as arguments and returns how many matches there are between the strings. A match is where the two strings have the same character at the same index. For instance, ' python ' and ' path ' match in the first, third, and fourth characters, so the function should return 3."
   ]
  },
  {
   "cell_type": "code",
   "execution_count": 1,
   "metadata": {},
   "outputs": [
    {
     "name": "stdout",
     "output_type": "stream",
     "text": [
      "Enter a string: \tboytoyahoy\n",
      "Enter another string:\thoitoyaboy\n",
      "Number of matching characters at the same indices are :  6\n"
     ]
    }
   ],
   "source": [
    "def main():  \n",
    "    string1 = input (\"Enter a string: \\t\")  \n",
    "    string2 = input (\"Enter another string:\\t\")\n",
    "    string_match_count(string1, string2)   \n",
    "\n",
    "\n",
    "def string_match_count(str1, str2):  \n",
    "    c = 0\n",
    "    d = 0\n",
    "\n",
    "    for i in str1:     #iterate over the first String    \n",
    "        if str2.find(i)>= 0 and d == str1.find(i): # this checks if character iterated from str1 is present in str2\n",
    "            c += 1\n",
    "        d += 1\n",
    "    print (\"Number of matching characters at the same indices are : \", c) \n",
    "  \n",
    "\n",
    "  \n",
    "main()"
   ]
  },
  {
   "cell_type": "markdown",
   "metadata": {},
   "source": [
    "### 7. Write a function called primes that is given a number n and returns a list of the first n primes. Let the default value of n be 100."
   ]
  },
  {
   "cell_type": "code",
   "execution_count": 18,
   "metadata": {},
   "outputs": [
    {
     "name": "stdout",
     "output_type": "stream",
     "text": [
      "The first  100  primes are :\n",
      "2\n",
      "3\n",
      "5\n",
      "7\n",
      "11\n",
      "13\n",
      "17\n",
      "19\n",
      "23\n",
      "29\n",
      "31\n",
      "37\n",
      "41\n",
      "43\n",
      "47\n",
      "53\n",
      "59\n",
      "61\n",
      "67\n",
      "71\n",
      "73\n",
      "79\n",
      "83\n",
      "89\n",
      "97\n"
     ]
    }
   ],
   "source": [
    "def main():\n",
    "    #n  = input(\"Enter an integer: \")\n",
    "    n = 100\n",
    "    print (\"The first \", str(n), \" primes are :\")\n",
    "    primes(n)\n",
    "    \n",
    "def primes (num):\n",
    "    ''' 1 is not a prime number. And with num +1, python iterates from 2 to n. '''\n",
    "    for num in range(2,num + 1):\n",
    "           if num > 1:         \n",
    "                for i in range(2,num): # check till num-1. this way if no other number divides the current \"num\", it is prime \n",
    "                    if (num % i) == 0:\n",
    "                         break            # not prime\n",
    "                else:\n",
    "                    print(num)          # only printing primes\n",
    "main()"
   ]
  },
  {
   "cell_type": "markdown",
   "metadata": {},
   "source": [
    "### 8. Recall that if s is a string, then s.find( ' a ' ) will find the location of the first a in s . The problem is that it does not find the location of every a. Write a function called findall that given a string and a single character, returns a list containing all of the locations of that character in the string. It should return an empty list if there are no occurrences of the character in the string."
   ]
  },
  {
   "cell_type": "code",
   "execution_count": 2,
   "metadata": {},
   "outputs": [
    {
     "name": "stdout",
     "output_type": "stream",
     "text": [
      "Enter a string:\tboyboyboyahoy\n",
      "Enter a character whose number of occurrences you want to find:\to\n",
      "The number of times the chosen character occurs: \t\n",
      "4\n"
     ]
    }
   ],
   "source": [
    "from collections import Counter\n",
    "def main():\n",
    "    string = input(\"Enter a string:\\t\")\n",
    "    character = input (\"Enter a character whose number of occurrences you want to find:\\t\")\n",
    "    print (\"The number of times the chosen character occurs: \\t\")\n",
    "    findall (string, character)   #finding the chosen character from the given string\n",
    "    \n",
    "def findall (str, ch):\n",
    "    #str = \"Mary had a little lamb\"\n",
    "    counter = Counter(str)\n",
    "    print (counter[ch])\n",
    "    \n",
    "main()"
   ]
  }
 ],
 "metadata": {
  "kernelspec": {
   "display_name": "Python 3",
   "language": "python",
   "name": "python3"
  },
  "language_info": {
   "codemirror_mode": {
    "name": "ipython",
    "version": 3
   },
   "file_extension": ".py",
   "mimetype": "text/x-python",
   "name": "python",
   "nbconvert_exporter": "python",
   "pygments_lexer": "ipython3",
   "version": "3.6.2"
  }
 },
 "nbformat": 4,
 "nbformat_minor": 2
}
